{
 "cells": [
  {
   "cell_type": "code",
   "execution_count": 1,
   "metadata": {},
   "outputs": [],
   "source": [
    "import pandas as pd\n",
    "import numpy as np\n",
    "import statsmodels.api as sm\n",
    "import statsmodels.formula.api as smf\n",
    "import matplotlib.pyplot as plt\n",
    "from sklearn.linear_model import LinearRegression\n",
    "from sklearn.linear_model import Lasso\n",
    "from sklearn.linear_model import Ridge\n",
    "from sklearn.linear_model import ElasticNet\n",
    "from sklearn.neighbors import KNeighborsRegressor\n",
    "from sklearn.tree import DecisionTreeRegressor\n",
    "from sklearn.ensemble import GradientBoostingRegressor\n",
    "from sklearn.ensemble import AdaBoostRegressor\n",
    "from sklearn.ensemble import BaggingRegressor\n",
    "from sklearn.ensemble import RandomForestRegressor\n",
    "from sklearn.ensemble import VotingRegressor\n",
    "from xgboost import XGBRegressor\n",
    "from sklearn.model_selection import train_test_split\n",
    "from sklearn.model_selection import RandomizedSearchCV \n",
    "from sklearn.model_selection import GridSearchCV\n",
    "from sklearn.metrics import accuracy_score\n",
    "from sklearn.metrics import mean_squared_error\n",
    "from sklearn.utils import shuffle\n",
    "from mlxtend.regressor import StackingRegressor\n",
    "from scipy.special import erfc\n",
    "import keras.models\n",
    "import keras.layers\n",
    "import tensorflow as tf"
   ]
  },
  {
   "cell_type": "markdown",
   "metadata": {},
   "source": [
    "# EDA"
   ]
  },
  {
   "cell_type": "markdown",
   "metadata": {},
   "source": [
    "- ## 같은 행정동의 지하철역 개수 (API 미활용 버전)\n",
    "\n",
    "y데이터는 강원, 대구, 서울이지만 역과 매매가가 관계가 있을 것 같아서 지하철이 있는 대구와 서울의 역사정보를 가지고 옴"
   ]
  },
  {
   "cell_type": "code",
   "execution_count": null,
   "metadata": {},
   "outputs": [],
   "source": [
    "# y데이터에는 우편번호와 주소가 있는데 -> 우편번호를 행정동으로 바꿈 (외부 데이터 이용)\n",
    "# 역사정보에는 주소와 위경도가 있는데 -> 주소로 행정동만 전처리해서 가져옴\n",
    "# 결국 행정동명으로 조인해서 상관관계를 구할 예정\n",
    "daegu_sub = pd.read_csv('대구지하철1.csv', encoding = \"CP949\")\n",
    "seoul_sub = pd.read_csv('서울지하철.csv', encoding = \"CP949\")"
   ]
  },
  {
   "cell_type": "code",
   "execution_count": null,
   "metadata": {},
   "outputs": [],
   "source": [
    "# 우편번호를 행정동명으로 바꾸는 자료\n",
    "file = pd.read_csv('전국팔도.txt', delimiter = '\\|', engine = 'python')"
   ]
  },
  {
   "cell_type": "code",
   "execution_count": null,
   "metadata": {},
   "outputs": [],
   "source": [
    "# Y데이터에 우편번호에 행정동명을 매칭시킨다.\n",
    "total_price = pd.merge(apt_data, temp, left_on='우편번호', right_on='우편번호', how='left')\n",
    "daegu_price = pd.merge(apt_daegu, temp, left_on='우편번호', right_on='우편번호', how='left')\n",
    "seoul_price = pd.merge(apt_seoul, temp, left_on='우편번호', right_on='우편번호', how='left')"
   ]
  },
  {
   "cell_type": "code",
   "execution_count": null,
   "metadata": {},
   "outputs": [],
   "source": [
    "# 행정동당 아파트의 면적당 매매가를 평균낸다.\n",
    "mean_price_total = mean_price_total[['행정동명','면적당매매실거래가격']]\n",
    "daegu_price = mean_price_daegu[['행정동명','면적당매매실거래가격']]\n",
    "seoul_price = mean_price_seoul[['행정동명','면적당매매실거래가격']]"
   ]
  },
  {
   "cell_type": "markdown",
   "metadata": {},
   "source": [
    "Y 데이터에서 우편번호 -> 행정동으로 바꾼 행정동과 지하철 데이터의 행정동명이 일치하지 않는 데이터 존재  \n",
    "EX) 교동 VS 교1동\n",
    "\n",
    "그래서 지하철 데이터에서 안 맞는 데이터를 하나하나 고침"
   ]
  },
  {
   "cell_type": "code",
   "execution_count": null,
   "metadata": {},
   "outputs": [],
   "source": [
    "# 역사정보와 Y데이터를 행정동을 기준으로 합침\n",
    "total = pd.merge(mean_price_total, sub, how = 'left')\n",
    "daegu = pd.merge(mean_price_daegu, daegu_sub, how = 'left')\n",
    "seoul = pd.merge(mean_price_seoul, seoul_sub, how = 'left')"
   ]
  },
  {
   "cell_type": "code",
   "execution_count": null,
   "metadata": {},
   "outputs": [],
   "source": [
    "total.corr(method = 'pearson') # 강원도도 포함된 데이터의 상관관계 0.27로 그렇게 좋아보이지 않음"
   ]
  },
  {
   "cell_type": "code",
   "execution_count": null,
   "metadata": {},
   "outputs": [],
   "source": [
    "daegu.corr(method='pearson') # 대구 데이터만 상관관계 0.19 > bad"
   ]
  },
  {
   "cell_type": "code",
   "execution_count": null,
   "metadata": {},
   "outputs": [],
   "source": [
    "seoul.corr(method = 'pearson') # 서울 데이터만 상관관계 -0.22 > bad"
   ]
  },
  {
   "cell_type": "markdown",
   "metadata": {},
   "source": [
    "같은 행정동안에 있는 역만 세기에는 옆 행정동의 역이 더 가까울 수도 있음  \n",
    "적절한 변수가 아닐것으로 판단"
   ]
  },
  {
   "cell_type": "markdown",
   "metadata": {},
   "source": [
    "- ## 같은 행정동 내 공원 수 (API 미활용 버전)"
   ]
  },
  {
   "cell_type": "code",
   "execution_count": null,
   "metadata": {},
   "outputs": [],
   "source": [
    "gangwon_park = pd.read_csv(\"강원도공원.csv\",encoding = 'euc-kr')\n",
    "daegu_park = pd.read_csv(\"대구공원.csv\",encoding = 'euc-kr')\n",
    "seoul_park = pd.read_csv(\"서울공원.csv\",encoding = 'euc-kr')"
   ]
  },
  {
   "cell_type": "code",
   "execution_count": null,
   "metadata": {},
   "outputs": [],
   "source": [
    "price_sub = pd.read_csv(\"price_sub.csv\",encoding = 'euc-kr')"
   ]
  },
  {
   "cell_type": "code",
   "execution_count": null,
   "metadata": {},
   "outputs": [],
   "source": [
    "# 세 지역의 공원데이터를 합침\n",
    "park = pd.concat([gangwon_park, daegu_park, seoul_park])"
   ]
  },
  {
   "cell_type": "code",
   "execution_count": null,
   "metadata": {},
   "outputs": [],
   "source": [
    "# 공원 데이터와 매매가를 행정동 기준으로 조인\n",
    "price_sub_park = pd.merge(price_sub, park, how = 'left')"
   ]
  },
  {
   "cell_type": "code",
   "execution_count": null,
   "metadata": {},
   "outputs": [],
   "source": [
    "price_sub_park.corr(method = 'pearson') # 관계가 어느정도 있을 것으로 예상했지만 -0.06으로 대참사"
   ]
  },
  {
   "cell_type": "code",
   "execution_count": null,
   "metadata": {},
   "outputs": [],
   "source": [
    "plt.scatter(price_sub_park['공원수'],price_sub_park['면적당매매실거래가격'],c='green')"
   ]
  },
  {
   "cell_type": "markdown",
   "metadata": {},
   "source": [
    "플랏을 보니 한 행정동에 이상하게 공원이 많음 >> 놀이터 같은 공원도 공원으로 포함 돼 있음 >> 공원 면적 고려해 다시 전처리"
   ]
  },
  {
   "cell_type": "code",
   "execution_count": null,
   "metadata": {},
   "outputs": [],
   "source": [
    "mean_price = pd.read_csv(\"공원정보_공원수/mean_price.csv\",encoding = 'euc-kr')\n",
    "seoul_parks =pd.read_csv(\"공원정보_공원수/seoul_park.csv\",encoding = 'euc-kr')\n",
    "daegu_parks = pd.read_csv(\"공원정보_공원수/daegu_park.csv\",encoding = 'euc-kr')\n",
    "gangwon_parks = pd.read_csv(\"공원정보_공원수/gangwon_park.csv\",encoding = 'euc-kr')"
   ]
  },
  {
   "cell_type": "code",
   "execution_count": null,
   "metadata": {},
   "outputs": [],
   "source": [
    "# 세 지역의 공원데이터를 합침\n",
    "parks = pd.concat([gangwon_parks, daegu_parks, seoul_parks])"
   ]
  },
  {
   "cell_type": "code",
   "execution_count": null,
   "metadata": {},
   "outputs": [],
   "source": [
    "# 행정동당 공원수\n",
    "parks_sum = pd.DataFrame(data = parks.groupby('행정동명')['공원수'].size())"
   ]
  },
  {
   "cell_type": "code",
   "execution_count": null,
   "metadata": {},
   "outputs": [],
   "source": [
    "# 공원 데이터와 매매가를 행정동 기준으로 조인\n",
    "price_park = pd.merge(mean_prices, parks_sum,left_on = '행정동명', right_on = '행정동명', how = 'left')"
   ]
  },
  {
   "cell_type": "code",
   "execution_count": null,
   "metadata": {},
   "outputs": [],
   "source": [
    "# NA값은 0으로 처리\n",
    "price_parks = price_park.fillna(0)"
   ]
  },
  {
   "cell_type": "code",
   "execution_count": null,
   "metadata": {},
   "outputs": [],
   "source": [
    "price_parks.corr(method = 'pearson') # 상관관계 -0.09 > bad"
   ]
  },
  {
   "cell_type": "markdown",
   "metadata": {},
   "source": [
    "- ## API 활용 버전 아파트 반경 내 주요시설 EDA\n",
    "\n",
    "주소를 좌표로 변환해주는 코드, 좌표 반경 몇 KM 이내 시설물 검색가능한 API 코드 작성"
   ]
  },
  {
   "cell_type": "code",
   "execution_count": null,
   "metadata": {},
   "outputs": [],
   "source": [
    "import requests; from urllib.parse import urlparse\n",
    "import pandas as pd\n",
    "import geopandas"
   ]
  },
  {
   "cell_type": "code",
   "execution_count": null,
   "metadata": {},
   "outputs": [],
   "source": [
    "# address에 주소를 넣으면 좌표 반환 example\n",
    "address = \"강원도 평창군 대관령면 올림픽로 2020\"\n",
    "url = \"https://dapi.kakao.com/v2/local/search/address.json?&query=\" + address\n",
    "result = requests.get(urlparse(url).geturl(),\n",
    "                      headers={\"Authorization\":\"KakaoAK e7667481e55296cab7a7c8e7528b4023\"})\n",
    "json_obj = result.json()"
   ]
  },
  {
   "cell_type": "code",
   "execution_count": null,
   "metadata": {},
   "outputs": [],
   "source": [
    "# 반환한 좌표를 보여주는 함수\n",
    "def address_to_latlons(address):\n",
    "    url = \"https://dapi.kakao.com/v2/local/search/address.json?&query=\" + address\n",
    "    result = requests.get(urlparse(url).geturl(),\n",
    "                          headers={\"Authorization\":\"KakaoAK e7667481e55296cab7a7c8e7528b4023\"})\n",
    "    json_obj = result.json()\n",
    "    for document in json_obj['documents']:\n",
    "        global vals\n",
    "        vals = [document['building_name'], document['y'], document['x']]\n",
    "    return vals"
   ]
  },
  {
   "cell_type": "code",
   "execution_count": null,
   "metadata": {},
   "outputs": [],
   "source": [
    "# 좌표와 반경, 시설물 keyword를 입력하면 시설물 수를 알 수 있는 함수\n",
    "def point_to_num(y,x,radius,keyword):\n",
    "    url = \"https://dapi.kakao.com/v2/local/search/keyword.json?&y=\" + y + \"&x=\" + x + \"&radius=\" + radius + \"&query=\" + keyword\n",
    "    result = requests.get(urlparse(url).geturl(),\n",
    "                      headers={\"Authorization\":\"KakaoAK e7667481e55296cab7a7c8e7528b4023\"})\n",
    "    json_obj = result.json()\n",
    "    global val\n",
    "    val = json_obj['meta']['pageable_count']\n",
    "    return val"
   ]
  },
  {
   "cell_type": "markdown",
   "metadata": {},
   "source": [
    "- ## 지하철역 수와 매매가의 상관관계 (API활용 버전)\n",
    "\n",
    "지하철은 대구와 서울 밖에 없기 때문에 대구아파트의 주소, 서울아파트의 주소만 따와서 지하철 수 파악 후 지하철이 있는 도시들 상관관계와 강원도를 합친 데이터의 상관관계를 파악하고자 함"
   ]
  },
  {
   "cell_type": "code",
   "execution_count": null,
   "metadata": {},
   "outputs": [],
   "source": [
    "apt_seoul = pd.read_csv(\"기웅/apt_seoul.csv\",encoding = 'euc-kr')\n",
    "apt_daegu = pd.read_csv(\"기웅/apt_daegu.csv\",encoding = 'euc-kr')\n",
    "apt = pd.read_csv(\"기웅/apt.csv\",encoding = 'euc-kr')"
   ]
  },
  {
   "cell_type": "code",
   "execution_count": null,
   "metadata": {},
   "outputs": [],
   "source": [
    "#아파트별로 주소 남김\n",
    "apt_daegu2 = apt_daegu1.drop_duplicates(['아파트명'])\n",
    "apt_seoul2 = apt_seoul1.drop_duplicates(['아파트명'])"
   ]
  },
  {
   "cell_type": "code",
   "execution_count": null,
   "metadata": {},
   "outputs": [],
   "source": [
    "a = []                                                 # 서울데이터 주소를 위도 경도 변환\n",
    "for address in apt_seoul2['아파트주소']:\n",
    "    a.append(address_to_latlons(address))\n",
    "    \n",
    "apt_seoul_point = pd.DataFrame(a, columns = ['아파트명', '아파트주소', '위도', '경도'])"
   ]
  },
  {
   "cell_type": "code",
   "execution_count": null,
   "metadata": {},
   "outputs": [],
   "source": [
    "c = []                                                 # 대구데이터 주소를 위도 경도 변환\n",
    "for address in apt_daegu2['아파트주소']:\n",
    "    c.append(address_to_latlons(address))\n",
    "    \n",
    "apt_daegu_point = pd.DataFrame(c, columns = ['아파트명', '아파트주소', '위도', '경도'])"
   ]
  },
  {
   "cell_type": "code",
   "execution_count": null,
   "metadata": {},
   "outputs": [],
   "source": [
    "b = []                                                # 서울아파트 좌표로 주위 지하철 수 구함\n",
    "for i in range(0,len(apt_seoul_point['아파트명'])): \n",
    "    b.append(point_to_num(apt_seoul_point['위도'][i], apt_seoul_point['경도'][i], '500', '지하철'))"
   ]
  },
  {
   "cell_type": "code",
   "execution_count": null,
   "metadata": {},
   "outputs": [],
   "source": [
    "apt_seoul_point['지하철수1'] = b # 서울 y데이터에 붙임"
   ]
  },
  {
   "cell_type": "code",
   "execution_count": null,
   "metadata": {},
   "outputs": [],
   "source": [
    "bb = []                                               # 대구아파트 좌표로 주위 지하철 수 구함\n",
    "for i in range(0,len(apt_daegu_point['아파트명'])):\n",
    "    bb.append(point_to_num(apt_daegu_point['위도'][i], apt_daegu_point['경도'][i], '1000', '지하철'))"
   ]
  },
  {
   "cell_type": "code",
   "execution_count": null,
   "metadata": {},
   "outputs": [],
   "source": [
    "apt_daegu_point['지하철수1'] = bb  # 대구 y데이터에 붙임 "
   ]
  },
  {
   "cell_type": "code",
   "execution_count": null,
   "metadata": {},
   "outputs": [],
   "source": [
    "#서울 대구 지하철수 데이터 합침\n",
    "apt_near_sub = pd.concat([apt_seoul_point, apt_daegu_point])"
   ]
  },
  {
   "cell_type": "markdown",
   "metadata": {},
   "source": [
    "Y 데이터에서 우편번호 -> 행정동으로 바꾼 행정동과 지하철 데이터의 행정동명이 일치하지 않는 데이터 존재\n",
    "\n",
    "해당 데이터 전처리 후 상관관계 계산"
   ]
  },
  {
   "cell_type": "code",
   "execution_count": null,
   "metadata": {},
   "outputs": [],
   "source": [
    "# 강원도 미포함 데이터\n",
    "apt_sub.corr(method = 'pearson')  # 상관관계가 0.2 > bad"
   ]
  },
  {
   "cell_type": "code",
   "execution_count": null,
   "metadata": {},
   "outputs": [],
   "source": [
    "# 강원도 포함 데이터\n",
    "apt_sub_1.corr(method = 'pearson') # 상관관계가 0.2 > bad"
   ]
  },
  {
   "cell_type": "markdown",
   "metadata": {},
   "source": [
    "파라미터 반경(radius)을 바꿔가며 상관관계를 봄  \n",
    "앞의 과정 반복 후 500M, 1KM, 2KM, 3KM 중 2km 이내 지하철 수가 가장 높은 상관관계 0.41을 보였다."
   ]
  },
  {
   "cell_type": "markdown",
   "metadata": {},
   "source": [
    "- ## 공원 수 (앞선 EDA에서 관계가 있을 것이라 판단) - 변수 선택 (API 활용)"
   ]
  },
  {
   "cell_type": "markdown",
   "metadata": {},
   "source": [
    "3KM, 2.5KM, 2KM, 2.7KM, 1.5KM 2.8KM, 2.6KM 이내 공원수 중 2.6KM 이내 공원수의 상관관계가 0.36정도로 높아서 변수로 선택\n",
    "\n",
    "*API를 활용한 지하철 수 EDA와 코드가 동일하여 해당 부분 코드는 제외하였습니다.*"
   ]
  },
  {
   "cell_type": "markdown",
   "metadata": {},
   "source": [
    "- ## 학교 수 - 변수 선택 (API 활용)"
   ]
  },
  {
   "cell_type": "markdown",
   "metadata": {},
   "source": [
    "500, 700, 1000, 900 중 1KM가 상관관계 0.37로 가장 높아서 변수로 선택\n",
    "\n",
    "*API를 활용한 지하철 수 EDA와 코드가 동일하여 해당 부분 코드는 제외하였습니다.*"
   ]
  },
  {
   "cell_type": "markdown",
   "metadata": {},
   "source": [
    "- ## 모텔 수 - 변수 선택되지 않음 (API 활용)"
   ]
  },
  {
   "cell_type": "markdown",
   "metadata": {},
   "source": [
    "1000, 2000, 1500 M 중 2KM 이내가 가장 높았으나 0.16이라 쓸모가 없을 것이라 판단\n",
    "\n",
    "*API를 활용한 지하철 수 EDA와 코드가 동일하여 해당 부분 코드는 제외하였습니다.*"
   ]
  },
  {
   "cell_type": "markdown",
   "metadata": {},
   "source": [
    "- ## 술집 수 ( 술집을 검색하면 나오는 시설물의 수 ) - 변수 선택되지 않음 (API 활용)"
   ]
  },
  {
   "cell_type": "markdown",
   "metadata": {},
   "source": [
    "1000, 700, 500M 중 가장 높은 상관관계가 0.19 라서 쓸모가 없을 것이라 판단\n",
    "\n",
    "*API를 활용한 지하철 수 EDA와 코드가 동일하여 해당 부분 코드는 제외하였습니다.*"
   ]
  },
  {
   "cell_type": "markdown",
   "metadata": {},
   "source": [
    "- ## 대형마트 수 ( 3KM 정도가 차타고 10분? 정도 걸림) - 변수 선택 (API 활용)"
   ]
  },
  {
   "cell_type": "markdown",
   "metadata": {},
   "source": [
    "2,3,4,5,6,7,8 KM 이내 조사 한 것 중에서 8KM 이내 대형마트 수 상관관계가 0.52까지 올라서 변수로 선택\n",
    "\n",
    "*API를 활용한 지하철 수 EDA와 코드가 동일하여 해당 부분 코드는 제외하였습니다.*"
   ]
  },
  {
   "cell_type": "markdown",
   "metadata": {},
   "source": [
    " - ## 편의점 수 - 변수 선택되지 않음 (API 활용)"
   ]
  },
  {
   "cell_type": "markdown",
   "metadata": {},
   "source": [
    "300, 500, 1000, 800M 중 가장 높았던 상관관계가 0.27이라서 변수로 선택하지 않음\n",
    "\n",
    "*API를 활용한 지하철 수 EDA와 코드가 동일하여 해당 부분 코드는 제외하였습니다.*"
   ]
  },
  {
   "cell_type": "markdown",
   "metadata": {},
   "source": [
    "- ## 감정평가금액, 최소매각가격"
   ]
  },
  {
   "cell_type": "code",
   "execution_count": null,
   "metadata": {},
   "outputs": [],
   "source": [
    "disposal = pd.read_csv('매각결과.csv', engine='python')\n",
    "y = pd.read_csv('아파트 일반정보 및 시세.csv', engine='python')"
   ]
  },
  {
   "cell_type": "code",
   "execution_count": null,
   "metadata": {},
   "outputs": [],
   "source": [
    "# 위 변수 중, 필요한 것만 남기기\n",
    "\n",
    "disposal = disposal.loc[:,['기준년월','물건번호용도내용','소재지및내역내용','감정평가금액','최소매각가격']]\n",
    "\n",
    "y['y'] = y['최근매매실거래가격'] / y['아파트면적값']\n",
    "y = y.loc[:,['기준년월','우편번호','아파트명','y']]"
   ]
  },
  {
   "cell_type": "code",
   "execution_count": null,
   "metadata": {},
   "outputs": [],
   "source": [
    "# 중복값 삭제\n",
    "\n",
    "disposal = disposal.drop_duplicates().reset_index(drop=True)"
   ]
  },
  {
   "cell_type": "code",
   "execution_count": null,
   "metadata": {},
   "outputs": [],
   "source": [
    "# 물건용도 종류를 알아보고자, 정규표현식을 사용해 문자열만 가져옴!\n",
    "\n",
    "import re\n",
    "\n",
    "disposal['물건용도'] = '-'\n",
    "for i in range(len(disposal)) :\n",
    "    disposal.loc[i,'물건용도'] = re.compile('[가-힣]+').findall(disposal.loc[i,'물건번호용도내용'])\n",
    "\n",
    "disposal = disposal.loc[:,['기준년월','우편번호','물건용도','감정평가금액','최소매각가격']]"
   ]
  },
  {
   "cell_type": "markdown",
   "metadata": {},
   "source": [
    "아래의 결과와 같이\n",
    "\n",
    "- 매각 물건 종류가 매우 다양함\n",
    "- 매각 물건 종류 별로 감정평가금액/최소매각가격의 양상이 매우 다름"
   ]
  },
  {
   "cell_type": "code",
   "execution_count": null,
   "metadata": {},
   "outputs": [],
   "source": [
    "disposal.groupby('물건용도').mean().loc[:,['감정평가금액','최소매각가격']]"
   ]
  },
  {
   "cell_type": "markdown",
   "metadata": {},
   "source": [
    "그래서 감정평가금액과 최소매각가격을 \"물건 용도별로\" 나눠 변수화하기로 결정함"
   ]
  },
  {
   "cell_type": "code",
   "execution_count": null,
   "metadata": {},
   "outputs": [],
   "source": [
    "disposal_group = disposal.groupby(['기준년월','우편번호','물건용도']).mean().reset_index()"
   ]
  },
  {
   "cell_type": "code",
   "execution_count": null,
   "metadata": {},
   "outputs": [],
   "source": [
    "disposal_group.head()"
   ]
  },
  {
   "cell_type": "markdown",
   "metadata": {},
   "source": [
    "물건 용도별로 나누기 위해서는 '감정평가금액_아파트', '감정평가금액_임야' 등의 형식이어야 함\n",
    "\n",
    "> 따라서 pivot_table method를 이용해 변수화"
   ]
  },
  {
   "cell_type": "code",
   "execution_count": null,
   "metadata": {},
   "outputs": [],
   "source": [
    "disposal_group.pivot_table(index=['우편번호'], columns='물건용도', values='감정평가금액').reset_index()"
   ]
  },
  {
   "cell_type": "code",
   "execution_count": null,
   "metadata": {},
   "outputs": [],
   "source": [
    "disposal_group.pivot_table(index=['우편번호'], columns='물건용도', values='최소매각가격').reset_index()"
   ]
  },
  {
   "cell_type": "markdown",
   "metadata": {},
   "source": [
    "그런데 결측값의 비율이 매우 높다."
   ]
  },
  {
   "cell_type": "code",
   "execution_count": null,
   "metadata": {},
   "outputs": [],
   "source": [
    "print(disposal_group.pivot_table(index=['우편번호'], columns='물건용도', values='감정평가금액').reset_index().shape)\n",
    "print('-------------------------------')\n",
    "disposal_group.pivot_table(index=['우편번호'], columns='물건용도', values='감정평가금액').reset_index().isnull().sum()"
   ]
  },
  {
   "cell_type": "markdown",
   "metadata": {},
   "source": [
    "709개의 행에 결측값이 변수 별로 500-700개 존재\n",
    "\n",
    "결론\n",
    "- 물건 용도 별로 나누지 않고 합치기엔 : 용도 별 값의 양상이 너무 달라서 의미 없는 변수가 됨\n",
    "- 물건 용도 별로 나눠서 변수화하기엔 : 결측값이 너무 많아서 의미 없는 변수\n",
    "- 독립 변수에서 제외"
   ]
  },
  {
   "cell_type": "markdown",
   "metadata": {},
   "source": [
    "- ## 시군구간 이동자 수"
   ]
  },
  {
   "cell_type": "code",
   "execution_count": null,
   "metadata": {},
   "outputs": [],
   "source": [
    "moving_num = pd.read_csv('시군별이동자수.csv', engine='python')\n",
    "y = pd.read_csv('아파트 일반정보 및 시세.csv', engine='python')"
   ]
  },
  {
   "cell_type": "code",
   "execution_count": null,
   "metadata": {},
   "outputs": [],
   "source": [
    "# 이동자 수 데이터가 시/구에 한정되어 있기 때문에, y 데이터도 시/구로 주소를 맞춰주기\n",
    "\n",
    "y['시.구'] = '-'\n",
    "\n",
    "for i in range(len(y)) :\n",
    "    y.loc[i,'시.구'] = y.loc[i,'아파트주소'].split()[1]"
   ]
  },
  {
   "cell_type": "code",
   "execution_count": null,
   "metadata": {},
   "outputs": [],
   "source": [
    "# 필요한 열만 남기기\n",
    "\n",
    "y['y'] = y['y'] = y['최근매매실거래가격'] / y['아파트면적값']\n",
    "y = y.loc[:,['기준년월','시.구','y']]"
   ]
  },
  {
   "cell_type": "code",
   "execution_count": null,
   "metadata": {},
   "outputs": [],
   "source": [
    "# 기준년월, 지역 기준으로 조인하여 y와의 상관관계 파악\n",
    "\n",
    "moving_num.merge(y, left_on=['기준년월','매매지역명'], right_on=['기준년월','시.구']).corr().loc[:,'y']"
   ]
  },
  {
   "cell_type": "markdown",
   "metadata": {},
   "source": [
    "'시군구간' 전입/전출 세대 수가 유의한 것으로 보임\n",
    "\n",
    "> 따라서, 기준년월에 해당하는 시군구간 전출 - 전입 세대 수를 변수에 추가함"
   ]
  },
  {
   "cell_type": "code",
   "execution_count": null,
   "metadata": {},
   "outputs": [],
   "source": [
    "# 시군구간 전출 - 전입 세대 수 변수화\n",
    "\n",
    "moving_num['moving_num'] = moving_num['시군구간전출세대수'] - moving_num['시군구간전입세대수']"
   ]
  },
  {
   "cell_type": "code",
   "execution_count": null,
   "metadata": {},
   "outputs": [],
   "source": [
    "# 필요한 열만 남기기\n",
    "\n",
    "moving_num = moving_num.loc[:,['기준년월','매매지역명','moving_num']]"
   ]
  },
  {
   "cell_type": "markdown",
   "metadata": {},
   "source": [
    "- ## 부대시설"
   ]
  },
  {
   "cell_type": "code",
   "execution_count": null,
   "metadata": {},
   "outputs": [],
   "source": [
    "pd.set_option('display.max_row', 500)\n",
    "y_value = pd.read_csv(\"C:/Users/LENOVO/Downloads/데이터마이닝프로젝트/기웅/아파트 일반정보 및 시세.csv\",encoding='CP949')\n",
    "\n",
    "pd.options.display.float_format = '{:.2f}'.format\n",
    "y_value['평당매매실거래가격']=y_value['최근매매실거래가격']/y_value['아파트면적값']"
   ]
  },
  {
   "cell_type": "code",
   "execution_count": null,
   "metadata": {},
   "outputs": [],
   "source": [
    "afc=pd.read_csv(\"C:/Users/LENOVO/Downloads/데이터마이닝프로젝트/기웅/아파트 부대시설 정보.csv\",encoding='CP949')"
   ]
  },
  {
   "cell_type": "code",
   "execution_count": null,
   "metadata": {},
   "outputs": [],
   "source": [
    "import collections as collections\n",
    "\n",
    "pd.set_option('display.max_row', 500)\n",
    "y_value=y_value[['기준년월','우편번호','아파트면적값','최근매매실거래가격','평당매매실거래가격','아파트주소']]\n",
    "\n",
    "# 관리사무소, 어린이놀이터 등 ','로 나열된 부대시설 개수를 파악하기 위해 ','를 기준으로 문자열 split\n",
    "prac=pd.merge(y_value,afc, on=['우편번호','기준년월','아파트주소'])\n",
    "prac=prac.drop(prac.columns[[15]],axis=1)\n",
    "prac['부대시설갯수']=prac.부대시설명.str.count(',')+1\n",
    "prac['난방_매핑']=prac['난방명'].factorize()[0]"
   ]
  },
  {
   "cell_type": "code",
   "execution_count": null,
   "metadata": {},
   "outputs": [],
   "source": [
    "# 높은 상관관계를 보임 -> 변수로 선택\n",
    "corr=prac.corr(method='pearson')"
   ]
  },
  {
   "cell_type": "code",
   "execution_count": null,
   "metadata": {},
   "outputs": [],
   "source": [
    "# 부대시설 종류 별로 더미변수 생성\n",
    "\n",
    "from sklearn.preprocessing import OneHotEncoder\n",
    "from sklearn.preprocessing import LabelEncoder\n",
    "import openpyxl\n",
    "\n",
    "pd.set_option('display.max_rows', 500)\n",
    "pval=prac[['기준년월','우편번호','아파트주소','아파트명','평당매매실거래가격','세대당주차대수','아파트준공일자','CCTV수','부대시설갯수','승강기수','부대시설명']]\n",
    "list=pval['부대시설명'].tolist()\n",
    "\n",
    "from sklearn.feature_extraction.text import CountVectorizer\n",
    "cv = CountVectorizer()\n",
    "X = cv.fit_transform(list)\n",
    "cv.get_feature_names()\n",
    "\n",
    "onehot=pd.DataFrame(X.A, columns=cv.get_feature_names())\n",
    "result=pd.concat([pval,onehot],axis=1)"
   ]
  },
  {
   "cell_type": "markdown",
   "metadata": {},
   "source": [
    "- ## 가게 매출과 면적당 매매가의 상관관계 (변수로 선택하지 않음)"
   ]
  },
  {
   "cell_type": "code",
   "execution_count": null,
   "metadata": {},
   "outputs": [],
   "source": [
    "# 우체국 DB를 통해 전국의 행정동, 지역 구분에 따른 우편번호 텍스트 파일\n",
    "file = pd.read_csv('./전국팔도.txt', delimiter = '\\|')"
   ]
  },
  {
   "cell_type": "code",
   "execution_count": null,
   "metadata": {},
   "outputs": [],
   "source": [
    "full_data = pd.read_csv(\"거래내역_201904.csv\" , encoding = 'CP949')"
   ]
  },
  {
   "cell_type": "code",
   "execution_count": null,
   "metadata": {},
   "outputs": [],
   "source": [
    "# 매출금액을 가게별로 그룹화해 합계처리\n",
    "sum = pd.DataFrame(data = full_data.groupby('가맹점신우편번호')['매출금액'].sum())"
   ]
  },
  {
   "cell_type": "code",
   "execution_count": null,
   "metadata": {},
   "outputs": [],
   "source": [
    "temp = file[['우편번호','행정동명']]"
   ]
  },
  {
   "cell_type": "code",
   "execution_count": null,
   "metadata": {},
   "outputs": [],
   "source": [
    "# 매출금액 데이터와 우편번호 데이터를 우편번호 기준으로 조인\n",
    "total = pd.merge(sum, temp, left_on='가맹점신우편번호', right_on='우편번호', how='inner')"
   ]
  },
  {
   "cell_type": "code",
   "execution_count": null,
   "metadata": {},
   "outputs": [],
   "source": [
    "# 필요한 열만 남기기, NA 전처리\n",
    "total = total[['행정동명','매출금액']]\n",
    "total.dropna(axis=0, how='any', inplace=True)\n",
    "\n",
    "total_sales=total.drop_duplicates(['행정동명', '매출금액'], keep='first')"
   ]
  },
  {
   "cell_type": "code",
   "execution_count": null,
   "metadata": {},
   "outputs": [],
   "source": [
    "# 같은 가게에 해당하는 거래내역을 그룹화해 합계처리\n",
    "total_sales = pd.DataFrame(data = total_sales.groupby('행정동명')['매출금액'].sum())"
   ]
  },
  {
   "cell_type": "code",
   "execution_count": null,
   "metadata": {},
   "outputs": [],
   "source": [
    "# 최근매매실거래 가격을 아파트 면적으로 나눔\n",
    "recent_price = pd.read_csv(\"아파트 일반정보 및 시세.csv\", encoding = 'CP949')\n",
    "add_col = recent_price[\"최근매매실거래가격\"]/recent_price[\"아파트면적값\"]\n",
    "recent_price[\"면적당최근매매실거래가\"] = add_col"
   ]
  },
  {
   "cell_type": "code",
   "execution_count": null,
   "metadata": {},
   "outputs": [],
   "source": [
    "# 같은 아파트에 해당하는 행들의 값들을 그룹화해 평균 처리\n",
    "mean_price = pd.DataFrame(data = recent_price.groupby('우편번호')['면적당최근매매실거래가'].mean())\n",
    "mean_price.reset_index(inplace=True)"
   ]
  },
  {
   "cell_type": "code",
   "execution_count": null,
   "metadata": {},
   "outputs": [],
   "source": [
    "# y데이터와 행정동명을 우편번호 기준으로 조인\n",
    "total_price = pd.merge(mean_price, temp, left_on='우편번호', right_on='우편번호', how='inner')\n",
    "total_price = total_price[['행정동명','면적당최근매매실거래가']]\n",
    "total_price.dropna(axis=0, how='any', inplace=True)\n",
    "\n",
    "# 중복값 제거\n",
    "total_price=total_price.drop_duplicates(['행정동명', '면적당최근매매실거래가'], keep='first')"
   ]
  },
  {
   "cell_type": "code",
   "execution_count": null,
   "metadata": {},
   "outputs": [],
   "source": [
    "# 한 행정동의 포함되는 우편번호들의 매매실거래가를 평균으로 groupby함\n",
    "total_price = pd.DataFrame(data = total_price.groupby('행정동명')['면적당최근매매실거래가'].mean())"
   ]
  },
  {
   "cell_type": "code",
   "execution_count": null,
   "metadata": {},
   "outputs": [],
   "source": [
    "# 행정동 내 매출액과 y 데이터를 행정동 기준으로 조인 후, scatter plot으로 상관관계 파악\n",
    "df = pd.merge(total_price, total_sales, left_on='행정동명', right_on='행정동명', how='inner')\n",
    "plt.scatter(df['매출금액'],df['면적당최근매매실거래가'],c='coral')"
   ]
  },
  {
   "cell_type": "code",
   "execution_count": null,
   "metadata": {},
   "outputs": [],
   "source": [
    "# raw data로는 눈에 띄는 상관관계가 보이지 않아, min max scaling 후 상관관계 파악\n",
    "from sklearn.preprocessing import MinMaxScaler\n",
    "scaler = MinMaxScaler()\n",
    "df[:] = scaler.fit_transform(df[:])\n",
    "\n",
    "plt.scatter(np.log(df['매출금액']),np.log(df['면적당최근매매실거래가']),c='green')"
   ]
  },
  {
   "cell_type": "markdown",
   "metadata": {},
   "source": [
    "상관관계가 충분히 유의미하지 않아, 독립변수에서 제외함.\n",
    "\n",
    "각 지역에 있는 모든 가게의 매출을 집계한 것이 아니라 일부 가게만 집계한 것이기 때문에 지역마다 매출금액의 차이가 존재. 이에 유의한 상관관계를 보이지 않는다 판단"
   ]
  },
  {
   "cell_type": "markdown",
   "metadata": {},
   "source": [
    "- ## 인구밀도"
   ]
  },
  {
   "cell_type": "code",
   "execution_count": null,
   "metadata": {},
   "outputs": [],
   "source": [
    "temp1 = pd.read_csv('./강릉시.txt',delimiter = '\\t', thousands = ',')\n",
    "temp2 = pd.read_csv('./남구.txt',delimiter = '\\t', thousands = ',')\n",
    "temp3 = pd.read_csv('./달서구.txt',delimiter = '\\t', thousands = ',')\n",
    "temp4 = pd.read_csv('./달성군.txt',delimiter = '\\t', thousands = ',')\n",
    "temp5 = pd.read_csv('./동구.txt',delimiter = '\\t', thousands = ',')\n",
    "temp6 = pd.read_csv('./동해시.txt',delimiter = '\\t', thousands = ',')\n",
    "temp7 = pd.read_csv('./북구.txt',delimiter = '\\t', thousands = ',')\n",
    "temp8 = pd.read_csv('./삼척시.txt',delimiter = '\\t', thousands = ',')\n",
    "temp9 = pd.read_csv('./서구.txt',delimiter = '\\t', thousands = ',')\n",
    "temp10 = pd.read_csv('./속초시.txt',delimiter = '\\t', thousands = ',')\n",
    "temp11 = pd.read_csv('./수성구.txt',delimiter = '\\t', thousands = ',')\n",
    "temp12 = pd.read_csv('./원주시.txt',delimiter = '\\t', thousands = ',')\n",
    "temp13 = pd.read_csv('./종로구.txt',delimiter = '\\t', thousands = ',')\n",
    "temp14 = pd.read_csv('./중구.txt',delimiter = '\\t', thousands = ',')\n",
    "temp15 = pd.read_csv('./춘천시.txt',delimiter = '\\t', thousands = ',')\n",
    "temp16 = pd.read_csv('./태백시.txt',delimiter = '\\t', thousands = ',')\n",
    "temp17 = pd.read_csv('./홍천군.txt',delimiter = '\\t', thousands = ',')"
   ]
  },
  {
   "cell_type": "code",
   "execution_count": null,
   "metadata": {},
   "outputs": [],
   "source": [
    "total_density = pd.concat([temp1,temp2,temp3,temp4,temp5,temp6,temp7,temp8,temp9,temp10,temp11,temp12,temp13,temp14,temp15,temp16,temp17], ignore_index=True)"
   ]
  },
  {
   "cell_type": "code",
   "execution_count": null,
   "metadata": {},
   "outputs": [],
   "source": [
    "# 인구/면적으로 인구밀도 변수 추가\n",
    "total_density['인구'] = list(map(float,total_density['인구'] ))\n",
    "total_density['면적'] = list(map(float,total_density['면적'] ))\n",
    "\n",
    "add_col3 = total_density['인구'] / total_density['면적']\n",
    "total_density['인구밀도'] = add_col3"
   ]
  },
  {
   "cell_type": "code",
   "execution_count": null,
   "metadata": {},
   "outputs": [],
   "source": [
    "# 인구밀도와 y 데이터의 상관관계를 보기 위해 행정동 기준으로 조인\n",
    "df2 = pd.merge(total_price, total_density, left_on='행정동명', right_on='행정동', how='inner')\n",
    "df2.corr(method='pearson')"
   ]
  },
  {
   "cell_type": "code",
   "execution_count": null,
   "metadata": {},
   "outputs": [],
   "source": [
    "plt.scatter(df2['ㅇ'],df2['면적당최근매매실거래가'],c='coral')"
   ]
  },
  {
   "cell_type": "markdown",
   "metadata": {},
   "source": [
    "인구밀도와 매매실거래가의 상관관계 : 0.46 > good"
   ]
  },
  {
   "cell_type": "markdown",
   "metadata": {},
   "source": [
    "- ## 거래건수"
   ]
  },
  {
   "cell_type": "markdown",
   "metadata": {},
   "source": [
    "기준년월별(201904,201905,202004,202005) 아파트 거래건수, 오피스텔 거래건수, 주택 거래건수\n",
    "\n",
    "세 변수 모두 y값과 유의한 상관관계를 보이지만, 세 변수 간의 다중공선성 존재\n",
    "> quantile regression 결과를 근거로 주택 거래건수만 남기고, 나머지 두 변수는 제거\n",
    "\n",
    "*해당 EDA는 초반에 R로 진행하여 코드 제외하였습니다.*"
   ]
  },
  {
   "cell_type": "markdown",
   "metadata": {},
   "source": [
    "- ## 주식지표"
   ]
  },
  {
   "cell_type": "markdown",
   "metadata": {},
   "source": [
    "타 변수들과 다르게 주차별로 기록되어있어, week를 기준으로 y 데이터와 조인해 관계를 파악\n",
    "\n",
    "여러 지표 중, 주가 수익 비율 / 주가 현금 흐름 비율이 유의미해 독립 변수에 포함\n",
    "\n",
    "*해당 EDA는 초반에 R로 진행하여 코드 제외하였습니다.*"
   ]
  },
  {
   "cell_type": "markdown",
   "metadata": {},
   "source": [
    "# 조인 과정 코드\n",
    "\n",
    "EDA를 마친 뒤, 모든 독립변수들을 하나의 데이터로 조인함\n",
    "\n",
    "*단순 pd.merge이므로 해당 코드는 제외하였습니다.*"
   ]
  },
  {
   "cell_type": "markdown",
   "metadata": {},
   "source": [
    "# Modeling"
   ]
  },
  {
   "cell_type": "code",
   "execution_count": 2,
   "metadata": {},
   "outputs": [],
   "source": [
    "df = pd.read_csv('final2.csv',encoding = 'euc-kr')\n",
    "df = shuffle(df) # 좀 더 랜덤한 학습을 위해 데이터를 섞어줌"
   ]
  },
  {
   "cell_type": "code",
   "execution_count": 3,
   "metadata": {},
   "outputs": [],
   "source": [
    "# y 값이 한쪽에 치우친 문제를 해결하기 위해 y에 로그를 씌워 분석 진행\n",
    "df.Y = np.log(df.Y)\n",
    "\n",
    "train = df.loc[(df.기준년월==201904)|(df.기준년월==201905),\n",
    "               ['아파트세대수', '아파트동수', '아파트면적값', '서울특별시', '강원도', '대구광역시', '면적', '인구', '세대', '대형마트수_8km이내',\n",
    "                '지하철수_2km이내', '학교수_1km이내', '공원수_2.6km이내', '인구밀도', '세대당주차대수', '아파트준공일자',\n",
    "                'CCTV수','부대시설갯수', '승강기수', '관리사무소', '노인정', '문고', '보육시설', '어린이놀이터', '유치원',\n",
    "                '자전거보관소', '주민공동시설', '커뮤니티공간', '휴게시설', '주택거래건수', \n",
    "                'mean.주가수익비율', 'mean.주가현금흐름비율', 'moving_num','Y']]\n",
    "# hyper parameter 조절 및 최적의 모델을 선정하기 위한 validation set 분리\n",
    "valid = df.loc[df.기준년월==202004, ['아파트세대수', '아파트동수', '아파트면적값', '서울특별시', '강원도', '대구광역시', '면적', '인구', '세대', '대형마트수_8km이내',\n",
    "                                 '지하철수_2km이내', '학교수_1km이내', '공원수_2.6km이내', '인구밀도', '세대당주차대수', '아파트준공일자',\n",
    "                                 'CCTV수','부대시설갯수', '승강기수', '관리사무소', '노인정', '문고', '보육시설', '어린이놀이터', '유치원',\n",
    "                                 '자전거보관소', '주민공동시설', '커뮤니티공간', '휴게시설', '주택거래건수', \n",
    "                                 'mean.주가수익비율', 'mean.주가현금흐름비율', 'moving_num','Y']]\n",
    "test = df.loc[df.기준년월==202005, ['아파트세대수', '아파트동수', '아파트면적값', '서울특별시', '강원도', '대구광역시', '면적', '인구', '세대', '대형마트수_8km이내',\n",
    "                                 '지하철수_2km이내', '학교수_1km이내', '공원수_2.6km이내', '인구밀도', '세대당주차대수', '아파트준공일자',\n",
    "                                 'CCTV수','부대시설갯수', '승강기수', '관리사무소', '노인정', '문고', '보육시설', '어린이놀이터', '유치원',\n",
    "                                 '자전거보관소', '주민공동시설', '커뮤니티공간', '휴게시설', '주택거래건수', \n",
    "                                 'mean.주가수익비율', 'mean.주가현금흐름비율', 'moving_num','Y']]"
   ]
  },
  {
   "cell_type": "code",
   "execution_count": 4,
   "metadata": {},
   "outputs": [],
   "source": [
    "# 독립변수 + 종속변수로 나누는 함수 생성\n",
    "\n",
    "def get_xy(data) :\n",
    "    x = data.drop('Y', axis=1)\n",
    "    y = data.Y\n",
    "    return x,y\n",
    "\n",
    "train_x, train_y = get_xy(train)\n",
    "valid_x, valid_y = get_xy(valid)\n",
    "test_x, test_y = get_xy(test)"
   ]
  },
  {
   "cell_type": "markdown",
   "metadata": {},
   "source": [
    "# deep learning fitting\n",
    "\n",
    "- 통계적 가정을 만족시키기 위해 y에 로그를 씌워서 학습시킴\n",
    "- n이 상대적으로 적다고 판단하여, 1) 미니 배치를 사용하지 않고 2) gradient descent optimizer 사용 3) hidden layer 1개만 사용\n",
    "- learning rate는 0.001,0.01,0.05 중 가장 안정적인 예측을 하는 0.01로 선택\n",
    "\n",
    "\n",
    "- 처음엔 relu activation function을 이용했으나, 노드가 죽는 경우 발생 -> 학습이 되지 않음  \n",
    "- 해결책 1 : batch normalization\n",
    "- 해결책 2 : activation function을 selu로 변경 (selu activation fn + sequential api가 성능이 좋다고 알려져있음)  "
   ]
  },
  {
   "cell_type": "code",
   "execution_count": null,
   "metadata": {},
   "outputs": [],
   "source": [
    "# selu function\n",
    "\n",
    "alpha_0_1 = -np.sqrt(2/np.pi) / ( erfc(1/np.sqrt(2)) * np.exp(1/2) -1 )\n",
    "scale_0_1 = ( 1 - erfc(1/np.sqrt(2)) * np.sqrt(np.e)) * np.sqrt(2*np.pi) * ( 2 * erfc(np.sqrt(2))*np.e**2 + \n",
    "                                                                           np.pi*erfc(1/np.sqrt(2))**2*np.e -\n",
    "                                                                           2*(2+np.pi)*erfc(1/np.sqrt(2))*np.sqrt(np.e) +\n",
    "                                                                           np.pi + 2 )**(-1/2)\n",
    "\n",
    "def selu(z, scale = scale_0_1, alpha = alpha_0_1) :\n",
    "    return scale * tf.where(z>=0.0, z, alpha*tf.nn.elu(z))"
   ]
  },
  {
   "cell_type": "code",
   "execution_count": null,
   "metadata": {},
   "outputs": [],
   "source": [
    "def build_model() :\n",
    "    model = tf.keras.models.Sequential()\n",
    "    model.add(tf.keras.layers.Dense(30, activation=selu, input_shape=(train_x.shape[1],)))\n",
    "    model.add(tf.keras.layers.BatchNormalization())\n",
    "    model.add(tf.keras.layers.Dense(15, activation=selu))\n",
    "    model.add(tf.keras.layers.BatchNormalization())\n",
    "    model.add(tf.keras.layers.Dense(1))\n",
    "    opt = tf.compat.v1.train.GradientDescentOptimizer(learning_rate=0.01)\n",
    "    model.compile(optimizer=opt, loss='mse', metrics=['mae'])\n",
    "    return model\n",
    "\n",
    "train_y = np.log(train_y)\n",
    "\n",
    "model = build_model()\n",
    "result = model.fit(train_x, train_y, epochs=100, validation_split=0.33, batch_size=1, verbose=0)"
   ]
  },
  {
   "cell_type": "code",
   "execution_count": null,
   "metadata": {},
   "outputs": [],
   "source": [
    "# overfitting 확인\n",
    "\n",
    "plt.plot(result.history['loss'])\n",
    "plt.plot(result.history['val_loss'])\n",
    "plt.title('model MSE')\n",
    "plt.ylabel('loss')\n",
    "plt.xlabel('epoch')\n",
    "plt.legend(['train','valid'], loc='upper left')\n",
    "plt.show()"
   ]
  },
  {
   "cell_type": "code",
   "execution_count": null,
   "metadata": {},
   "outputs": [],
   "source": [
    "# 모델 정교화\n",
    "\n",
    "from keras import regularizers\n",
    "\n",
    "callback = tf.keras.callbacks.EarlyStopping(monitor='loss', patience=10)\n",
    "\n",
    "def build_model() :\n",
    "    model = tf.keras.models.Sequential()\n",
    "    \n",
    "    ## input layer\n",
    "    model.add(tf.keras.layers.Dense(30, activation=selu, input_shape=(train_x.shape[1],)))\n",
    "    model.add(tf.keras.layers.BatchNormalization())\n",
    "    model.add(tf.keras.layers.Dropout(0.5))\n",
    "    \n",
    "    ## hidden layer\n",
    "    model.add(tf.keras.layers.Dense(15, activation=selu))\n",
    "    model.add(tf.keras.layers.BatchNormalization())\n",
    "              \n",
    "    ## output layer\n",
    "    model.add(tf.keras.layers.Dense(1))\n",
    "    \n",
    "    ## model compile\n",
    "    opt = tf.keras.optimizers.Adam(learning_rate=0.005)\n",
    "    model.compile(optimizer=opt, loss='mse', metrics=['mae'])\n",
    "    return model\n",
    "\n",
    "train_y = np.log(train.y)\n",
    "\n",
    "model = build_model()\n",
    "result = model.fit(train_x, train_y, epochs=1000, validation_split=0.5, batch_size=1, callbacks=[callback], verbose=0)"
   ]
  },
  {
   "cell_type": "code",
   "execution_count": null,
   "metadata": {},
   "outputs": [],
   "source": [
    "prediction = pd.DataFrame(np.exp(model.predict(valid_x)))\n",
    "prediction.columns = ['pred']\n",
    "prediction['true'] = valid.y.reset_index(drop=True)"
   ]
  },
  {
   "cell_type": "markdown",
   "metadata": {},
   "source": [
    "hyper parameter를 다양하게 조절하여 적합시켜보았으나, 성능이 향상되지 않았음 + overfitting\n",
    "\n",
    "해당 데이터는 deep learning 모델엔 부적절하다고 판단하여, machine learning 모델을 적용시켜보기로 함"
   ]
  },
  {
   "cell_type": "markdown",
   "metadata": {},
   "source": [
    "# 다양한 machine learning - regression 모델 적합시켜보기\n",
    "\n",
    "- 별도의 hyper parameter 없이 validation set R square를 통해 대략적인 모델의 적절성만 파악  \n",
    "- 이후 괜찮은 모델 몇개만 골라서 hyper parameter tuning 진행"
   ]
  },
  {
   "cell_type": "markdown",
   "metadata": {},
   "source": [
    "*해당 적합 결과는 ppt에 명시해두었습니다.*"
   ]
  },
  {
   "cell_type": "markdown",
   "metadata": {},
   "source": [
    "## 성능 높은 모델 hyper parameter tuning"
   ]
  },
  {
   "cell_type": "markdown",
   "metadata": {},
   "source": [
    "- ## **그래디언트 부스팅 회귀**"
   ]
  },
  {
   "cell_type": "code",
   "execution_count": 5,
   "metadata": {},
   "outputs": [
    {
     "data": {
      "text/plain": [
       "RandomizedSearchCV(cv=5, error_score='raise-deprecating',\n",
       "                   estimator=GradientBoostingRegressor(alpha=0.9,\n",
       "                                                       criterion='friedman_mse',\n",
       "                                                       init=None,\n",
       "                                                       learning_rate=0.1,\n",
       "                                                       loss='ls', max_depth=3,\n",
       "                                                       max_features=None,\n",
       "                                                       max_leaf_nodes=None,\n",
       "                                                       min_impurity_decrease=0.0,\n",
       "                                                       min_impurity_split=None,\n",
       "                                                       min_samples_leaf=1,\n",
       "                                                       min_samples_split=2,\n",
       "                                                       min_weight_fraction_leaf=0.0,\n",
       "                                                       n_estimators=100,...\n",
       "                                                       subsample=1.0,\n",
       "                                                       tol=0.0001,\n",
       "                                                       validation_fraction=0.1,\n",
       "                                                       verbose=0,\n",
       "                                                       warm_start=False),\n",
       "                   iid='warn', n_iter=30, n_jobs=-1,\n",
       "                   param_distributions={'learning_rate': [0.1, 0.05, 0.01],\n",
       "                                        'max_depth': [2, 5, 8, 10],\n",
       "                                        'max_features': [5, 10, 15, 20, 25, 30],\n",
       "                                        'n_estimators': [100, 200, 300, 400,\n",
       "                                                         500]},\n",
       "                   pre_dispatch='2*n_jobs', random_state=None, refit=True,\n",
       "                   return_train_score=False, scoring=None, verbose=0)"
      ]
     },
     "execution_count": 5,
     "metadata": {},
     "output_type": "execute_result"
    }
   ],
   "source": [
    "param_gbrt={'n_estimators':[100,200,300,400,500], \n",
    "            'learning_rate': [0.1,0.05,0.01],\n",
    "            'max_depth':[2,5,8,10],\n",
    "            'max_features':[5,10,15,20,25,30]} \n",
    "\n",
    "search_gbrt = RandomizedSearchCV(estimator=GradientBoostingRegressor(random_state=0), cv=5, param_distributions=param_gbrt, n_jobs=-1, n_iter=30)\n",
    "search_gbrt.fit(train_x, train_y)"
   ]
  },
  {
   "cell_type": "code",
   "execution_count": 6,
   "metadata": {},
   "outputs": [
    {
     "name": "stdout",
     "output_type": "stream",
     "text": [
      "train set R^2 : 0.999\n",
      "valid set R^2 : 0.846\n"
     ]
    }
   ],
   "source": [
    "gbrt_best = GradientBoostingRegressor(random_state=0, max_depth=search_gbrt.best_params_['max_depth'],\n",
    "                                      max_features=search_gbrt.best_params_['max_features'],\n",
    "                                      n_estimators=search_gbrt.best_params_['n_estimators'],\n",
    "                                     learning_rate=search_gbrt.best_params_['learning_rate'])\n",
    "gbrt_best.fit(train_x, train_y)\n",
    "\n",
    "print(\"train set R^2 : {:.3f}\".format(gbrt_best.score(train_x, train_y)))\n",
    "print(\"valid set R^2 : {:.3f}\".format(gbrt_best.score(valid_x, valid_y)))"
   ]
  },
  {
   "cell_type": "markdown",
   "metadata": {},
   "source": [
    "- ## **k neighbors 회귀**"
   ]
  },
  {
   "cell_type": "code",
   "execution_count": 9,
   "metadata": {},
   "outputs": [
    {
     "data": {
      "text/plain": [
       "RandomizedSearchCV(cv=5, error_score='raise-deprecating',\n",
       "                   estimator=KNeighborsRegressor(algorithm='auto', leaf_size=30,\n",
       "                                                 metric='minkowski',\n",
       "                                                 metric_params=None,\n",
       "                                                 n_jobs=None, n_neighbors=5,\n",
       "                                                 p=2, weights='uniform'),\n",
       "                   iid='warn', n_iter=100, n_jobs=-1,\n",
       "                   param_distributions={'n_neighbors': range(1, 200)},\n",
       "                   pre_dispatch='2*n_jobs', random_state=None, refit=True,\n",
       "                   return_train_score=False, scoring=None, verbose=0)"
      ]
     },
     "execution_count": 9,
     "metadata": {},
     "output_type": "execute_result"
    }
   ],
   "source": [
    "param_knn={'n_neighbors':range(1,200)}\n",
    "\n",
    "search_knn = RandomizedSearchCV(estimator=KNeighborsRegressor(), cv=5, param_distributions=param_knn, n_jobs=-1, n_iter=100)\n",
    "search_knn.fit(train_x, train_y)"
   ]
  },
  {
   "cell_type": "code",
   "execution_count": 10,
   "metadata": {},
   "outputs": [
    {
     "name": "stdout",
     "output_type": "stream",
     "text": [
      "train set R^2 : 0.998\n",
      "valid set R^2 : 0.932\n"
     ]
    }
   ],
   "source": [
    "kn_best = KNeighborsRegressor(n_neighbors=search_knn.best_params_['n_neighbors'])\n",
    "kn_best.fit(train_x, train_y)\n",
    "\n",
    "print(\"train set R^2 : {:.3f}\".format(kn_best.score(train_x, train_y)))\n",
    "print(\"valid set R^2 : {:.3f}\".format(kn_best.score(valid_x, valid_y)))"
   ]
  },
  {
   "cell_type": "markdown",
   "metadata": {},
   "source": [
    "# voting regression\n",
    "\n",
    "- 아무래도 train set과 validation set 성능의 간극을 좁힐 수 없어  \n",
    "- 가장 성능이 좋게 나온 knn을 base estimator로 하여 세 앙상블 모델(pasting, bagging, boosting)을 만듦"
   ]
  },
  {
   "cell_type": "markdown",
   "metadata": {},
   "source": [
    "*아래 코드는 스태킹 모델의 한계로 최종 모델에 선택되지 않음*"
   ]
  },
  {
   "cell_type": "code",
   "execution_count": 11,
   "metadata": {},
   "outputs": [],
   "source": [
    "from xgboost import XGBRegressor"
   ]
  },
  {
   "cell_type": "code",
   "execution_count": 12,
   "metadata": {},
   "outputs": [],
   "source": [
    "# 그 전에 두개의 부스팅 모델을 기반으로 스태킹도 시도해보았지만, 성능이 좋지 않아 앙상블 모델은 세개(pasting, bagging, boosting)만 사용\n",
    "\n",
    "GBC = GradientBoostingRegressor()\n",
    "gb_param_grid = {'n_estimators' : [100,200,300,400,500],'learning_rate': [0.1, 0.05, 0.01],'max_depth': [2,4,6], 'max_features': [0.3, 0.1,0.5,0.9] }\n",
    "gsGBC = GridSearchCV(GBC, param_grid = gb_param_grid, cv=5, scoring=\"neg_mean_squared_error\", n_jobs=-1)\n",
    "gsGBC.fit(train_x, train_y)\n",
    "GBC_best = gsGBC.best_estimator_"
   ]
  },
  {
   "cell_type": "code",
   "execution_count": 13,
   "metadata": {},
   "outputs": [],
   "source": [
    "XGB = XGBRegressor()\n",
    "xgb_param_grid = {'learning_rate': [1,0.1,0.01,0.001],'n_estimators': [50, 100, 200, 500], 'max_depth' : [2,4,6]}\n",
    "gsXGB = GridSearchCV(XGB, param_grid = xgb_param_grid, cv=5, scoring=\"neg_mean_squared_error\", n_jobs=-1)\n",
    "gsXGB.fit(train_x, train_y)\n",
    "XGB_best = gsXGB.best_estimator_"
   ]
  },
  {
   "cell_type": "code",
   "execution_count": 14,
   "metadata": {},
   "outputs": [
    {
     "name": "stderr",
     "output_type": "stream",
     "text": [
      "C:\\Users\\taeni\\Anaconda3\\lib\\site-packages\\sklearn\\ensemble\\forest.py:245: FutureWarning: The default value of n_estimators will change from 10 in version 0.20 to 100 in 0.22.\n",
      "  \"10 in version 0.20 to 100 in 0.22.\", FutureWarning)\n"
     ]
    },
    {
     "name": "stdout",
     "output_type": "stream",
     "text": [
      "train set R^2 : 0.999\n",
      "valid set R^2 : 0.798\n"
     ]
    }
   ],
   "source": [
    "st_re = StackingRegressor(regressors=[XGB_best, GBC_best], meta_regressor=RandomForestRegressor())\n",
    "st_re.fit(train_x, train_y)\n",
    "\n",
    "print(\"train set R^2 : {:.3f}\".format(st_re.score(train_x, train_y)))\n",
    "print(\"valid set R^2 : {:.3f}\".format(st_re.score(valid_x, valid_y)))"
   ]
  },
  {
   "cell_type": "markdown",
   "metadata": {},
   "source": [
    "## base linear model : knn regression"
   ]
  },
  {
   "cell_type": "code",
   "execution_count": 5,
   "metadata": {},
   "outputs": [],
   "source": [
    "kn_reg = KNeighborsRegressor(n_neighbors=6)"
   ]
  },
  {
   "cell_type": "markdown",
   "metadata": {},
   "source": [
    "## train + valid (더이상 성능 확인 필요x)"
   ]
  },
  {
   "cell_type": "code",
   "execution_count": 6,
   "metadata": {},
   "outputs": [],
   "source": [
    "train = df.loc[df.기준년월!=202005, ['아파트세대수', '아파트동수', '아파트면적값', '서울특별시', '강원도', '대구광역시', '면적', '인구', '세대', '대형마트수_8km이내',\n",
    "                                 '지하철수_2km이내', '학교수_1km이내', '공원수_2.6km이내', '인구밀도', '세대당주차대수', '아파트준공일자',\n",
    "                                 'CCTV수','부대시설갯수', '승강기수', '관리사무소', '노인정', '문고', '보육시설', '어린이놀이터', '유치원',\n",
    "                                 '자전거보관소', '주민공동시설', '커뮤니티공간', '휴게시설', '주택거래건수', \n",
    "                                 'mean.주가수익비율', 'mean.주가현금흐름비율', 'moving_num','Y']]\n",
    "test = df.loc[df.기준년월==202005, ['아파트세대수', '아파트동수', '아파트면적값', '서울특별시', '강원도', '대구광역시', '면적', '인구', '세대', '대형마트수_8km이내',\n",
    "                                 '지하철수_2km이내', '학교수_1km이내', '공원수_2.6km이내', '인구밀도', '세대당주차대수', '아파트준공일자',\n",
    "                                 'CCTV수','부대시설갯수', '승강기수', '관리사무소', '노인정', '문고', '보육시설', '어린이놀이터', '유치원',\n",
    "                                 '자전거보관소', '주민공동시설', '커뮤니티공간', '휴게시설', '주택거래건수', \n",
    "                                 'mean.주가수익비율', 'mean.주가현금흐름비율', 'moving_num','Y']]\n",
    "\n",
    "train_x, train_y = get_xy(train)\n",
    "test_x, test_y = get_xy(test)\n"
   ]
  },
  {
   "cell_type": "code",
   "execution_count": null,
   "metadata": {},
   "outputs": [],
   "source": [
    "## voting regressor"
   ]
  },
  {
   "cell_type": "code",
   "execution_count": 10,
   "metadata": {},
   "outputs": [],
   "source": [
    "pas_reg = BaggingRegressor(base_estimator = kn_reg, bootstrap=False, random_state=0)\n",
    "bag_reg = BaggingRegressor(base_estimator = kn_reg, bootstrap=True, random_state=0)\n",
    "ada_reg = AdaBoostRegressor(base_estimator = kn_reg, random_state=0)\n",
    "\n",
    "param_ensemble = {'n_estimators':[300,400,500], 'max_features':[20,25,30]} \n",
    "param_adaboost = {'n_estimators':[300,400,500], 'learning_rate':[0.01,0.1,0.5]} \n",
    "\n",
    "def random_cv(obj, grid) :\n",
    "    search_method = RandomizedSearchCV(estimator=obj, cv=5, n_iter = 8,param_distributions=grid, n_jobs=-1)\n",
    "    search_method.fit(train_x, train_y)\n",
    "    best = search_method.best_params_\n",
    "    return best"
   ]
  },
  {
   "cell_type": "code",
   "execution_count": null,
   "metadata": {},
   "outputs": [],
   "source": [
    "pas_best = random_cv(pas_reg, param_ensemble)\n",
    "pas_best = BaggingRegressor(base_estimator = kn_reg, bootstrap=False, random_state=0, n_estimators=pas_best['n_estimators'], max_features=pas_best['max_features'])"
   ]
  },
  {
   "cell_type": "code",
   "execution_count": null,
   "metadata": {},
   "outputs": [],
   "source": [
    "bag_best = random_cv(bag_reg, param_ensemble)\n",
    "bag_best = BaggingRegressor(base_estimator = kn_reg, bootstrap=True, random_state=0, n_estimators=bag_best['n_estimators'], max_features=bag_best['max_features'])"
   ]
  },
  {
   "cell_type": "code",
   "execution_count": null,
   "metadata": {},
   "outputs": [],
   "source": [
    "ada_best = random_cv(ada_reg, param_adaboost)\n",
    "ada_best = AdaBoostRegressor(base_estimator = kn_reg, random_state=0, n_estimators=ada_best['n_estimators'], learning_rate=ada_best['learning_rate'])"
   ]
  },
  {
   "cell_type": "code",
   "execution_count": 9,
   "metadata": {},
   "outputs": [
    {
     "data": {
      "text/plain": [
       "VotingRegressor(estimators=[('bag',\n",
       "                             BaggingRegressor(base_estimator=KNeighborsRegressor(algorithm='auto',\n",
       "                                                                                 leaf_size=30,\n",
       "                                                                                 metric='minkowski',\n",
       "                                                                                 metric_params=None,\n",
       "                                                                                 n_jobs=None,\n",
       "                                                                                 n_neighbors=6,\n",
       "                                                                                 p=2,\n",
       "                                                                                 weights='uniform'),\n",
       "                                              bootstrap=True,\n",
       "                                              bootstrap_features=False,\n",
       "                                              max_features=33, max_samples=1.0,\n",
       "                                              n_estimators=100, n_jobs=None,\n",
       "                                              oob_score=False, random_state=0,\n",
       "                                              verbose=0, warm...\n",
       "                                              n_estimators=500, n_jobs=None,\n",
       "                                              oob_score=False, random_state=0,\n",
       "                                              verbose=0, warm_start=False)),\n",
       "                            ('ada',\n",
       "                             AdaBoostRegressor(base_estimator=KNeighborsRegressor(algorithm='auto',\n",
       "                                                                                  leaf_size=30,\n",
       "                                                                                  metric='minkowski',\n",
       "                                                                                  metric_params=None,\n",
       "                                                                                  n_jobs=None,\n",
       "                                                                                  n_neighbors=6,\n",
       "                                                                                  p=2,\n",
       "                                                                                  weights='uniform'),\n",
       "                                               learning_rate=0.11,\n",
       "                                               loss='linear', n_estimators=100,\n",
       "                                               random_state=0))],\n",
       "                n_jobs=None, weights=None)"
      ]
     },
     "execution_count": 9,
     "metadata": {},
     "output_type": "execute_result"
    }
   ],
   "source": [
    "voting_reg = VotingRegressor(\n",
    "    estimators=[('bag', bag_best), ('pas', pas_best),('ada', ada_best)])\n",
    "\n",
    "voting_reg.fit(train_x, train_y)"
   ]
  },
  {
   "cell_type": "markdown",
   "metadata": {},
   "source": [
    "# check and eliminate outlier obs. from train model residual"
   ]
  },
  {
   "cell_type": "code",
   "execution_count": 10,
   "metadata": {},
   "outputs": [],
   "source": [
    "train['pred'] = voting_reg.predict(train_x)\n",
    "train['resd'] = np.abs(train.Y - train.pred)"
   ]
  },
  {
   "cell_type": "code",
   "execution_count": 11,
   "metadata": {
    "scrolled": true
   },
   "outputs": [
    {
     "data": {
      "text/plain": [
       "count    3.331200e+04\n",
       "mean     3.303517e-02\n",
       "std      2.760599e-02\n",
       "min      1.065814e-14\n",
       "25%      1.186480e-02\n",
       "50%      2.726193e-02\n",
       "75%      4.691731e-02\n",
       "max      3.372404e-01\n",
       "Name: resd, dtype: float64"
      ]
     },
     "execution_count": 11,
     "metadata": {},
     "output_type": "execute_result"
    }
   ],
   "source": [
    "train.resd.describe()"
   ]
  },
  {
   "cell_type": "code",
   "execution_count": 36,
   "metadata": {},
   "outputs": [
    {
     "data": {
      "text/plain": [
       "0.07844702355"
      ]
     },
     "execution_count": 36,
     "metadata": {},
     "output_type": "execute_result"
    }
   ],
   "source": [
    "# 약 6% 잘라냄\n",
    "0.03303517 + 1.645*0.02760599"
   ]
  },
  {
   "cell_type": "code",
   "execution_count": 12,
   "metadata": {},
   "outputs": [],
   "source": [
    "train = train.loc[train.resd < 0.07845, : ]\n",
    "\n",
    "train_x = train.drop(['Y','pred','resd'], axis=1)\n",
    "train_y = train.Y"
   ]
  },
  {
   "cell_type": "code",
   "execution_count": 34,
   "metadata": {},
   "outputs": [
    {
     "data": {
      "text/html": [
       "<div>\n",
       "<style scoped>\n",
       "    .dataframe tbody tr th:only-of-type {\n",
       "        vertical-align: middle;\n",
       "    }\n",
       "\n",
       "    .dataframe tbody tr th {\n",
       "        vertical-align: top;\n",
       "    }\n",
       "\n",
       "    .dataframe thead th {\n",
       "        text-align: right;\n",
       "    }\n",
       "</style>\n",
       "<table border=\"1\" class=\"dataframe\">\n",
       "  <thead>\n",
       "    <tr style=\"text-align: right;\">\n",
       "      <th></th>\n",
       "      <th>아파트세대수</th>\n",
       "      <th>아파트동수</th>\n",
       "      <th>아파트면적값</th>\n",
       "      <th>서울특별시</th>\n",
       "      <th>강원도</th>\n",
       "      <th>대구광역시</th>\n",
       "      <th>면적</th>\n",
       "      <th>인구</th>\n",
       "      <th>세대</th>\n",
       "      <th>대형마트수_8km이내</th>\n",
       "      <th>...</th>\n",
       "      <th>주민공동시설</th>\n",
       "      <th>커뮤니티공간</th>\n",
       "      <th>휴게시설</th>\n",
       "      <th>주택거래건수</th>\n",
       "      <th>mean.주가수익비율</th>\n",
       "      <th>mean.주가현금흐름비율</th>\n",
       "      <th>moving_num</th>\n",
       "      <th>Y</th>\n",
       "      <th>pred</th>\n",
       "      <th>resd</th>\n",
       "    </tr>\n",
       "  </thead>\n",
       "  <tbody>\n",
       "    <tr>\n",
       "      <th>count</th>\n",
       "      <td>31205.000000</td>\n",
       "      <td>31205.000000</td>\n",
       "      <td>31205.000000</td>\n",
       "      <td>31205.000000</td>\n",
       "      <td>31205.000000</td>\n",
       "      <td>31205.000000</td>\n",
       "      <td>31205.000000</td>\n",
       "      <td>31205.000000</td>\n",
       "      <td>31205.000000</td>\n",
       "      <td>31205.000000</td>\n",
       "      <td>...</td>\n",
       "      <td>31205.000000</td>\n",
       "      <td>31205.000000</td>\n",
       "      <td>31205.000000</td>\n",
       "      <td>31205.000000</td>\n",
       "      <td>31205.000000</td>\n",
       "      <td>31205.000000</td>\n",
       "      <td>31205.000000</td>\n",
       "      <td>31205.000000</td>\n",
       "      <td>31205.000000</td>\n",
       "      <td>3.120500e+04</td>\n",
       "    </tr>\n",
       "    <tr>\n",
       "      <th>mean</th>\n",
       "      <td>185.757186</td>\n",
       "      <td>6.541676</td>\n",
       "      <td>87.443722</td>\n",
       "      <td>0.020061</td>\n",
       "      <td>0.245506</td>\n",
       "      <td>0.734434</td>\n",
       "      <td>5.346983</td>\n",
       "      <td>24284.920453</td>\n",
       "      <td>9345.789953</td>\n",
       "      <td>14.604679</td>\n",
       "      <td>...</td>\n",
       "      <td>0.510687</td>\n",
       "      <td>0.155584</td>\n",
       "      <td>0.283833</td>\n",
       "      <td>68.624483</td>\n",
       "      <td>17.290132</td>\n",
       "      <td>13.273903</td>\n",
       "      <td>-152.944656</td>\n",
       "      <td>14.964757</td>\n",
       "      <td>14.964467</td>\n",
       "      <td>2.831414e-02</td>\n",
       "    </tr>\n",
       "    <tr>\n",
       "      <th>std</th>\n",
       "      <td>168.592635</td>\n",
       "      <td>4.233275</td>\n",
       "      <td>31.506607</td>\n",
       "      <td>0.140211</td>\n",
       "      <td>0.430393</td>\n",
       "      <td>0.441641</td>\n",
       "      <td>8.887122</td>\n",
       "      <td>14800.760364</td>\n",
       "      <td>5125.140617</td>\n",
       "      <td>8.041859</td>\n",
       "      <td>...</td>\n",
       "      <td>0.499894</td>\n",
       "      <td>0.362466</td>\n",
       "      <td>0.450864</td>\n",
       "      <td>39.781237</td>\n",
       "      <td>0.582182</td>\n",
       "      <td>0.642134</td>\n",
       "      <td>519.277883</td>\n",
       "      <td>0.478191</td>\n",
       "      <td>0.475100</td>\n",
       "      <td>2.012605e-02</td>\n",
       "    </tr>\n",
       "    <tr>\n",
       "      <th>min</th>\n",
       "      <td>6.000000</td>\n",
       "      <td>1.000000</td>\n",
       "      <td>12.650000</td>\n",
       "      <td>0.000000</td>\n",
       "      <td>0.000000</td>\n",
       "      <td>0.000000</td>\n",
       "      <td>0.230000</td>\n",
       "      <td>12.218000</td>\n",
       "      <td>6.140000</td>\n",
       "      <td>0.000000</td>\n",
       "      <td>...</td>\n",
       "      <td>0.000000</td>\n",
       "      <td>0.000000</td>\n",
       "      <td>0.000000</td>\n",
       "      <td>4.000000</td>\n",
       "      <td>16.205070</td>\n",
       "      <td>11.898776</td>\n",
       "      <td>-1802.000000</td>\n",
       "      <td>13.381912</td>\n",
       "      <td>13.397414</td>\n",
       "      <td>1.065814e-14</td>\n",
       "    </tr>\n",
       "    <tr>\n",
       "      <th>25%</th>\n",
       "      <td>78.000000</td>\n",
       "      <td>4.000000</td>\n",
       "      <td>59.970000</td>\n",
       "      <td>0.000000</td>\n",
       "      <td>0.000000</td>\n",
       "      <td>0.000000</td>\n",
       "      <td>1.090000</td>\n",
       "      <td>14712.000000</td>\n",
       "      <td>6150.000000</td>\n",
       "      <td>8.000000</td>\n",
       "      <td>...</td>\n",
       "      <td>0.000000</td>\n",
       "      <td>0.000000</td>\n",
       "      <td>0.000000</td>\n",
       "      <td>37.000000</td>\n",
       "      <td>16.777345</td>\n",
       "      <td>12.586818</td>\n",
       "      <td>-194.000000</td>\n",
       "      <td>14.670997</td>\n",
       "      <td>14.677585</td>\n",
       "      <td>1.097333e-02</td>\n",
       "    </tr>\n",
       "    <tr>\n",
       "      <th>50%</th>\n",
       "      <td>135.000000</td>\n",
       "      <td>6.000000</td>\n",
       "      <td>84.900000</td>\n",
       "      <td>0.000000</td>\n",
       "      <td>0.000000</td>\n",
       "      <td>1.000000</td>\n",
       "      <td>2.590000</td>\n",
       "      <td>21515.000000</td>\n",
       "      <td>8624.000000</td>\n",
       "      <td>15.000000</td>\n",
       "      <td>...</td>\n",
       "      <td>1.000000</td>\n",
       "      <td>0.000000</td>\n",
       "      <td>0.000000</td>\n",
       "      <td>59.000000</td>\n",
       "      <td>17.676890</td>\n",
       "      <td>13.643786</td>\n",
       "      <td>-55.000000</td>\n",
       "      <td>14.947148</td>\n",
       "      <td>14.943970</td>\n",
       "      <td>2.523746e-02</td>\n",
       "    </tr>\n",
       "    <tr>\n",
       "      <th>75%</th>\n",
       "      <td>235.000000</td>\n",
       "      <td>8.000000</td>\n",
       "      <td>107.600000</td>\n",
       "      <td>0.000000</td>\n",
       "      <td>0.000000</td>\n",
       "      <td>1.000000</td>\n",
       "      <td>5.970000</td>\n",
       "      <td>30299.000000</td>\n",
       "      <td>11886.000000</td>\n",
       "      <td>21.000000</td>\n",
       "      <td>...</td>\n",
       "      <td>1.000000</td>\n",
       "      <td>0.000000</td>\n",
       "      <td>1.000000</td>\n",
       "      <td>88.000000</td>\n",
       "      <td>17.676890</td>\n",
       "      <td>13.643786</td>\n",
       "      <td>48.000000</td>\n",
       "      <td>15.263170</td>\n",
       "      <td>15.260225</td>\n",
       "      <td>4.228980e-02</td>\n",
       "    </tr>\n",
       "    <tr>\n",
       "      <th>max</th>\n",
       "      <td>1376.000000</td>\n",
       "      <td>24.000000</td>\n",
       "      <td>250.690000</td>\n",
       "      <td>1.000000</td>\n",
       "      <td>1.000000</td>\n",
       "      <td>1.000000</td>\n",
       "      <td>113.910000</td>\n",
       "      <td>73138.000000</td>\n",
       "      <td>25786.000000</td>\n",
       "      <td>31.000000</td>\n",
       "      <td>...</td>\n",
       "      <td>1.000000</td>\n",
       "      <td>1.000000</td>\n",
       "      <td>1.000000</td>\n",
       "      <td>162.000000</td>\n",
       "      <td>17.842709</td>\n",
       "      <td>13.919768</td>\n",
       "      <td>1066.000000</td>\n",
       "      <td>16.534777</td>\n",
       "      <td>16.479618</td>\n",
       "      <td>7.844156e-02</td>\n",
       "    </tr>\n",
       "  </tbody>\n",
       "</table>\n",
       "<p>8 rows × 36 columns</p>\n",
       "</div>"
      ],
      "text/plain": [
       "             아파트세대수         아파트동수        아파트면적값         서울특별시           강원도  \\\n",
       "count  31205.000000  31205.000000  31205.000000  31205.000000  31205.000000   \n",
       "mean     185.757186      6.541676     87.443722      0.020061      0.245506   \n",
       "std      168.592635      4.233275     31.506607      0.140211      0.430393   \n",
       "min        6.000000      1.000000     12.650000      0.000000      0.000000   \n",
       "25%       78.000000      4.000000     59.970000      0.000000      0.000000   \n",
       "50%      135.000000      6.000000     84.900000      0.000000      0.000000   \n",
       "75%      235.000000      8.000000    107.600000      0.000000      0.000000   \n",
       "max     1376.000000     24.000000    250.690000      1.000000      1.000000   \n",
       "\n",
       "              대구광역시            면적            인구            세대   대형마트수_8km이내  \\\n",
       "count  31205.000000  31205.000000  31205.000000  31205.000000  31205.000000   \n",
       "mean       0.734434      5.346983  24284.920453   9345.789953     14.604679   \n",
       "std        0.441641      8.887122  14800.760364   5125.140617      8.041859   \n",
       "min        0.000000      0.230000     12.218000      6.140000      0.000000   \n",
       "25%        0.000000      1.090000  14712.000000   6150.000000      8.000000   \n",
       "50%        1.000000      2.590000  21515.000000   8624.000000     15.000000   \n",
       "75%        1.000000      5.970000  30299.000000  11886.000000     21.000000   \n",
       "max        1.000000    113.910000  73138.000000  25786.000000     31.000000   \n",
       "\n",
       "       ...        주민공동시설        커뮤니티공간          휴게시설        주택거래건수  \\\n",
       "count  ...  31205.000000  31205.000000  31205.000000  31205.000000   \n",
       "mean   ...      0.510687      0.155584      0.283833     68.624483   \n",
       "std    ...      0.499894      0.362466      0.450864     39.781237   \n",
       "min    ...      0.000000      0.000000      0.000000      4.000000   \n",
       "25%    ...      0.000000      0.000000      0.000000     37.000000   \n",
       "50%    ...      1.000000      0.000000      0.000000     59.000000   \n",
       "75%    ...      1.000000      0.000000      1.000000     88.000000   \n",
       "max    ...      1.000000      1.000000      1.000000    162.000000   \n",
       "\n",
       "        mean.주가수익비율  mean.주가현금흐름비율    moving_num             Y          pred  \\\n",
       "count  31205.000000   31205.000000  31205.000000  31205.000000  31205.000000   \n",
       "mean      17.290132      13.273903   -152.944656     14.964757     14.964467   \n",
       "std        0.582182       0.642134    519.277883      0.478191      0.475100   \n",
       "min       16.205070      11.898776  -1802.000000     13.381912     13.397414   \n",
       "25%       16.777345      12.586818   -194.000000     14.670997     14.677585   \n",
       "50%       17.676890      13.643786    -55.000000     14.947148     14.943970   \n",
       "75%       17.676890      13.643786     48.000000     15.263170     15.260225   \n",
       "max       17.842709      13.919768   1066.000000     16.534777     16.479618   \n",
       "\n",
       "               resd  \n",
       "count  3.120500e+04  \n",
       "mean   2.831414e-02  \n",
       "std    2.012605e-02  \n",
       "min    1.065814e-14  \n",
       "25%    1.097333e-02  \n",
       "50%    2.523746e-02  \n",
       "75%    4.228980e-02  \n",
       "max    7.844156e-02  \n",
       "\n",
       "[8 rows x 36 columns]"
      ]
     },
     "execution_count": 34,
     "metadata": {},
     "output_type": "execute_result"
    }
   ],
   "source": [
    "train.describe()"
   ]
  },
  {
   "cell_type": "code",
   "execution_count": null,
   "metadata": {},
   "outputs": [],
   "source": [
    "pas_best = random_cv(pas_reg)\n",
    "pas_best = BaggingRegressor(base_estimator = kn_reg, bootstrap=False, random_state=0,\n",
    "                           n_estimators=pas_best['n_estimators'], max_features=pas_best['max_features'])\n",
    "bag_best = random_cv(bag_reg)\n",
    "bag_best = BaggingRegressor(base_estimator = kn_reg, bootstrap=True, random_state=0,\n",
    "                           n_estimators=bag_best['n_estimators'], max_features=bag_best['max_features'])\n",
    "ada_best = random_cv(ada_reg)\n",
    "ada_best = AdaBoostRegressor(base_estimator = kn_reg, random_state=0,\n",
    "                           n_estimators=ada_best['n_estimators'], max_features=ada_best['max_features'])"
   ]
  },
  {
   "cell_type": "code",
   "execution_count": 13,
   "metadata": {},
   "outputs": [
    {
     "data": {
      "text/plain": [
       "VotingRegressor(estimators=[('bag',\n",
       "                             BaggingRegressor(base_estimator=KNeighborsRegressor(algorithm='auto',\n",
       "                                                                                 leaf_size=30,\n",
       "                                                                                 metric='minkowski',\n",
       "                                                                                 metric_params=None,\n",
       "                                                                                 n_jobs=None,\n",
       "                                                                                 n_neighbors=6,\n",
       "                                                                                 p=2,\n",
       "                                                                                 weights='uniform'),\n",
       "                                              bootstrap=True,\n",
       "                                              bootstrap_features=False,\n",
       "                                              max_features=33, max_samples=1.0,\n",
       "                                              n_estimators=100, n_jobs=None,\n",
       "                                              oob_score=False, random_state=0,\n",
       "                                              verbose=0, warm...\n",
       "                                              n_estimators=500, n_jobs=None,\n",
       "                                              oob_score=False, random_state=0,\n",
       "                                              verbose=0, warm_start=False)),\n",
       "                            ('ada',\n",
       "                             AdaBoostRegressor(base_estimator=KNeighborsRegressor(algorithm='auto',\n",
       "                                                                                  leaf_size=30,\n",
       "                                                                                  metric='minkowski',\n",
       "                                                                                  metric_params=None,\n",
       "                                                                                  n_jobs=None,\n",
       "                                                                                  n_neighbors=6,\n",
       "                                                                                  p=2,\n",
       "                                                                                  weights='uniform'),\n",
       "                                               learning_rate=0.11,\n",
       "                                               loss='linear', n_estimators=100,\n",
       "                                               random_state=0))],\n",
       "                n_jobs=None, weights=None)"
      ]
     },
     "execution_count": 13,
     "metadata": {},
     "output_type": "execute_result"
    }
   ],
   "source": [
    "voting_reg = VotingRegressor(\n",
    "    estimators=[('bag', bag_best), ('pas', pas_best),('ada', ada_best)])\n",
    "\n",
    "voting_reg.fit(train_x, train_y)"
   ]
  },
  {
   "cell_type": "markdown",
   "metadata": {},
   "source": [
    "&nbsp;"
   ]
  },
  {
   "cell_type": "markdown",
   "metadata": {},
   "source": [
    "# final predict"
   ]
  },
  {
   "cell_type": "code",
   "execution_count": 14,
   "metadata": {},
   "outputs": [
    {
     "name": "stdout",
     "output_type": "stream",
     "text": [
      "훈련 세트 정확도 : 0.996\n",
      "테스트 세트 정확도 : 0.970\n"
     ]
    }
   ],
   "source": [
    "print(\"훈련 세트 정확도 : {:.3f}\".format(voting_reg.score(train_x,train_y)))\n",
    "\n",
    "print(\"테스트 세트 정확도 : {:.3f}\".format(voting_reg.score(test_x,test_y)))"
   ]
  },
  {
   "cell_type": "code",
   "execution_count": 15,
   "metadata": {},
   "outputs": [
    {
     "name": "stdout",
     "output_type": "stream",
     "text": [
      "The Root mean squared error (RMSE) on test set: 328878.4534\n"
     ]
    }
   ],
   "source": [
    "# RMSE\n",
    "rmse_vot=np.sqrt(mean_squared_error(np.exp(test_y), np.exp(voting_reg.predict(test_x))))\n",
    "print(\"The Root mean squared error (RMSE) on test set: {:.4f}\".format(rmse_vot))"
   ]
  },
  {
   "cell_type": "markdown",
   "metadata": {},
   "source": [
    "# 지역별 예측 결과 정리"
   ]
  },
  {
   "cell_type": "code",
   "execution_count": 26,
   "metadata": {},
   "outputs": [
    {
     "data": {
      "text/plain": [
       "32516    9.774694e+04\n",
       "18760    9.881543e+04\n",
       "31896    2.138565e+04\n",
       "11193    4.550557e+05\n",
       "11847    3.154929e+05\n",
       "34310    6.741112e+05\n",
       "41193    1.722190e+05\n",
       "12218    2.657988e+05\n",
       "19792    5.532843e+04\n",
       "32641    2.584988e+05\n",
       "23381    1.213482e+05\n",
       "40768    4.005386e+04\n",
       "23647    3.363453e+04\n",
       "36106    1.176417e+05\n",
       "19178    4.154699e+04\n",
       "32587    1.133286e+03\n",
       "11803    1.046902e+06\n",
       "32209    5.201555e+03\n",
       "23394    1.084490e+05\n",
       "24068    2.623622e+04\n",
       "18656    1.079621e+05\n",
       "1516     4.310807e+03\n",
       "32890    5.074536e+05\n",
       "2344     6.084220e+04\n",
       "31047    1.631240e+04\n",
       "12171    2.734594e+04\n",
       "1372     3.920588e+04\n",
       "33025    8.138266e+04\n",
       "43882    4.158206e+04\n",
       "11477    1.713932e+05\n",
       "             ...     \n",
       "37348    1.078489e+05\n",
       "23549    1.694174e+05\n",
       "32853    3.542693e+05\n",
       "23799    9.354993e+05\n",
       "40794    3.748140e+04\n",
       "32972    1.431963e+05\n",
       "24003    1.005657e+05\n",
       "23301    7.475106e+04\n",
       "2448     3.355140e+06\n",
       "3797     1.025040e+05\n",
       "19346    4.258349e+05\n",
       "23266    1.081158e+05\n",
       "36099    1.262707e+05\n",
       "19027    7.749355e+04\n",
       "43427    1.660893e+05\n",
       "31815    1.954086e+04\n",
       "11129    1.586258e+05\n",
       "43317    2.009557e+05\n",
       "10826    3.178819e+05\n",
       "36047    1.961078e+04\n",
       "11949    1.580855e+05\n",
       "36320    2.116636e+05\n",
       "1351     4.542959e+05\n",
       "32653    1.421542e+05\n",
       "40525    6.224618e+04\n",
       "34230    1.159644e+05\n",
       "19818    4.024908e+03\n",
       "37314    3.227999e+04\n",
       "23567    3.470861e+04\n",
       "34291    4.984937e+04\n",
       "Name: resd, Length: 10610, dtype: float64"
      ]
     },
     "execution_count": 26,
     "metadata": {},
     "output_type": "execute_result"
    }
   ],
   "source": [
    "test.resd"
   ]
  },
  {
   "cell_type": "code",
   "execution_count": 22,
   "metadata": {},
   "outputs": [],
   "source": [
    "test['pred'] = np.exp(voting_reg.predict(test_x))\n",
    "test['resd'] = np.abs(np.exp(test.Y) - test.pred)"
   ]
  },
  {
   "cell_type": "code",
   "execution_count": 23,
   "metadata": {},
   "outputs": [],
   "source": [
    "test = test.loc[:,['강원도','대구광역시','서울특별시','Y','resd']]"
   ]
  },
  {
   "cell_type": "code",
   "execution_count": 27,
   "metadata": {},
   "outputs": [
    {
     "data": {
      "text/plain": [
       "328878.4533893354"
      ]
     },
     "execution_count": 27,
     "metadata": {},
     "output_type": "execute_result"
    }
   ],
   "source": [
    "np.sqrt(np.mean((test.resd)**2))"
   ]
  },
  {
   "cell_type": "code",
   "execution_count": 28,
   "metadata": {},
   "outputs": [],
   "source": [
    "k = test.loc[test.강원도==1,'resd']\n",
    "t = test.loc[test.대구광역시==1,'resd']\n",
    "s = test.loc[test.서울특별시==1,'resd']"
   ]
  },
  {
   "cell_type": "code",
   "execution_count": 32,
   "metadata": {},
   "outputs": [
    {
     "data": {
      "image/png": "[encoded data removed]",
      "text/plain": [
       "<Figure size 864x576 with 1 Axes>"
      ]
     },
     "metadata": {
      "needs_background": "light"
     },
     "output_type": "display_data"
    }
   ],
   "source": [
    "plt.figure(figsize=(12,8))\n",
    "sns.distplot(k) # 강원도 blue\n",
    "sns.distplot(t) # 대구 orange\n",
    "sns.distplot(s) # 서울 green\n",
    "plt.show()"
   ]
  },
  {
   "cell_type": "markdown",
   "metadata": {},
   "source": [
    "|잔차| 상위 5% : 추정이 잘 안된 480개 데이터\n",
    "- 강원도 15개 -> 전체 강원도 데이터의 0.55% 차지 -> 추정이 잘된 지역\n",
    "- 서울 25개 -> 전체 서울 데이터의 22% 차지 -> 추정이 잘 안된 지역\n",
    "- 대구 440개 -> 전체 대구 데이터의 6.5% 차지 -> 추정이 잘 지역\n",
    "\n",
    "|잔차| 하위 5% : 추정이 잘 된 480개 데이터\n",
    "- 강원도 206개 -> 전체 강원도 데이터의 7.6%차지 -> 추정이 잘 된 지역\n",
    "- 대구 274개 -> 전체 대구 데이터의 4% 차지 -> 추정이 잘된 지역"
   ]
  },
  {
   "cell_type": "markdown",
   "metadata": {},
   "source": [
    "유난히 서울 예측이 잘 안됨\n",
    "- 제공받은 데이터 : 강원도, 대구에 비해 n이 적었음 + 종로구 데이터만 제공받음\n",
    "- 더미 변수로 서울 특성을 반영하고자 하였으나, '교통 편의시설 등 각종 인프라'가 집중된 점은 반영하지 못함."
   ]
  },
  {
   "cell_type": "markdown",
   "metadata": {},
   "source": [
    "한계\n",
    "- 서울, 대구의 예측력을 보완하고자 아파트 브랜드/시공사 변수를 추가하려 했으나, 변수 추출에 어려움이 있어 못했다. 해당 데이터가 있었다면 더 좋은 예측력을 기대할 수 있었을 것이다.\n",
    "- 제공된 데이터 셋에서 y값과 1대1 labeling이 되지 않아 사용할 수 없었던 데이터들이 존재한다. 이러한 데이터들을 사용할 수 있는 모델이나 데이터 전처리 방법을 사용하지 못하였다. "
   ]
  }
 ],
 "metadata": {
  "kernelspec": {
   "display_name": "Python 3",
   "language": "python",
   "name": "python3"
  },
  "language_info": {
   "codemirror_mode": {
    "name": "ipython",
    "version": 3
   },
   "file_extension": ".py",
   "mimetype": "text/x-python",
   "name": "python",
   "nbconvert_exporter": "python",
   "pygments_lexer": "ipython3",
   "version": "3.8.5"
  }
 },
 "nbformat": 4,
 "nbformat_minor": 4
}
